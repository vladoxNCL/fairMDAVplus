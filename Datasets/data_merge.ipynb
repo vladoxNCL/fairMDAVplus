{
 "cells": [
  {
   "cell_type": "code",
   "execution_count": 13,
   "metadata": {},
   "outputs": [],
   "source": [
    "import pandas as pd\n",
    "import numpy as np"
   ]
  },
  {
   "cell_type": "code",
   "execution_count": 62,
   "metadata": {},
   "outputs": [],
   "source": [
    "dsets = ['income', 'compas', 'german']\n",
    "\n",
    "for d in dsets:\n",
    "    df = pd.read_csv(d + '_experiment_mean.csv')\n",
    "    dp_df = pd.read_csv(d + '_experiment_mean_dp.csv')\n",
    "    df['e'] = np.nan\n",
    "    dp_df.rename(columns={'t':'tau'}, inplace=True)\n",
    "    new_df = pd.concat([df, dp_df]).reset_index(drop=True)\n",
    "    new_df.drop(['kf', 'lf'], axis=1, inplace=True)\n",
    "    new_df.drop(new_df[new_df.tau.isnull() & ~ new_df.e.isnull()].index, inplace=True)\n",
    "    for p in ['k', 'u', 'f']:\n",
    "        new_df[p].replace(0, np.nan, inplace=True)\n",
    "    new_df.rename(columns={'m': 'micro_agg',\n",
    "                           'e': 'epsilon', \n",
    "                           'nc': 'neg_corr'}, inplace=True)\n",
    "    cols = new_df.columns.tolist()\n",
    "    cols = cols[9:12] + [cols[0]] + cols[12:] + [cols[1], cols[5]] + cols[2:5] + cols[6:9]\n",
    "    new_df = new_df[cols]\n",
    "    new_df.to_csv(d + '_experiment_mean_all.csv', index=False)"
   ]
  },
  {
   "cell_type": "code",
   "execution_count": null,
   "metadata": {},
   "outputs": [],
   "source": []
  }
 ],
 "metadata": {
  "kernelspec": {
   "display_name": "Python 3",
   "language": "python",
   "name": "python3"
  },
  "language_info": {
   "codemirror_mode": {
    "name": "ipython",
    "version": 3
   },
   "file_extension": ".py",
   "mimetype": "text/x-python",
   "name": "python",
   "nbconvert_exporter": "python",
   "pygments_lexer": "ipython3",
   "version": "3.7.7"
  }
 },
 "nbformat": 4,
 "nbformat_minor": 4
}
